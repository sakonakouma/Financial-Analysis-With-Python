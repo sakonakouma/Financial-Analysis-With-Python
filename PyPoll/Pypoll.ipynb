{
 "cells": [
  {
   "cell_type": "code",
   "execution_count": 10,
   "metadata": {},
   "outputs": [],
   "source": [
    "import os\n",
    "import csv"
   ]
  },
  {
   "cell_type": "code",
   "execution_count": 11,
   "metadata": {},
   "outputs": [
    {
     "name": "stdout",
     "output_type": "stream",
     "text": [
      "1048575\n"
     ]
    }
   ],
   "source": [
    "# path to the file\n",
    "path = os.path.join(\"election_data.csv\")\n",
    "\n",
    "\n",
    "with open(path) as election_data:\n",
    "    # using the csv.reader method to read the data\n",
    "    reader = csv.reader(election_data)\n",
    "    # skipping the first row because it's not valuable for our analysis\n",
    "    header = next(reader)\n",
    "    # set a counter before the for loop, put it inside the for loop and let it add 1 at every iteration\n",
    "    counter_votes = 0\n",
    "    for row_of_data in reader:\n",
    "        #print(row_of_data[2])\n",
    "        counter_votes += 1\n",
    "\n",
    "print(counter_votes)"
   ]
  },
  {
   "cell_type": "code",
   "execution_count": null,
   "metadata": {},
   "outputs": [],
   "source": []
  }
 ],
 "metadata": {
  "kernelspec": {
   "display_name": "Python 3",
   "language": "python",
   "name": "python3"
  },
  "language_info": {
   "codemirror_mode": {
    "name": "ipython",
    "version": 3
   },
   "file_extension": ".py",
   "mimetype": "text/x-python",
   "name": "python",
   "nbconvert_exporter": "python",
   "pygments_lexer": "ipython3",
   "version": "3.7.6"
  }
 },
 "nbformat": 4,
 "nbformat_minor": 4
}
